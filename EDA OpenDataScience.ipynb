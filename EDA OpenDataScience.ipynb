{
 "cells": [
  {
   "cell_type": "markdown",
   "metadata": {},
   "source": [
    "# OpenDataScience questionnaire EDA"
   ]
  },
  {
   "cell_type": "markdown",
   "metadata": {},
   "source": [
    "Data visualization is a very interesting subject, very creative and subjective. But there are some common principles that drive the work of every DataScientists, and the most important are:\n",
    "- Clarity\n",
    "- Interpretability\n",
    "\n",
    "We will try to present some common techniques to represent data, more over we will try to show how different types of plots or data manipulation can make a plot more interpretable"
   ]
  },
  {
   "cell_type": "markdown",
   "metadata": {},
   "source": [
    "# Data preparation"
   ]
  },
  {
   "cell_type": "code",
   "execution_count": 1,
   "metadata": {},
   "outputs": [
    {
     "name": "stdout",
     "output_type": "stream",
     "text": [
      "Requirement already satisfied: matplotlib in c:\\users\\steve\\anaconda3\\lib\\site-packages (3.1.3)\n",
      "Requirement already satisfied: wordcloud in c:\\users\\steve\\anaconda3\\lib\\site-packages (1.6.0)\n",
      "Requirement already satisfied: plotly in c:\\users\\steve\\anaconda3\\lib\\site-packages (4.5.0)\n",
      "Requirement already satisfied: pyparsing!=2.0.4,!=2.1.2,!=2.1.6,>=2.0.1 in c:\\users\\steve\\anaconda3\\lib\\site-packages (from matplotlib) (2.4.6)\n",
      "Requirement already satisfied: numpy>=1.11 in c:\\users\\steve\\anaconda3\\lib\\site-packages (from matplotlib) (1.18.1)\n",
      "Requirement already satisfied: python-dateutil>=2.1 in c:\\users\\steve\\anaconda3\\lib\\site-packages (from matplotlib) (2.8.1)\n",
      "Requirement already satisfied: cycler>=0.10 in c:\\users\\steve\\anaconda3\\lib\\site-packages (from matplotlib) (0.10.0)\n",
      "Requirement already satisfied: kiwisolver>=1.0.1 in c:\\users\\steve\\anaconda3\\lib\\site-packages (from matplotlib) (1.1.0)\n",
      "Requirement already satisfied: pillow in c:\\users\\steve\\anaconda3\\lib\\site-packages (from wordcloud) (7.0.0)\n",
      "Requirement already satisfied: retrying>=1.3.3 in c:\\users\\steve\\anaconda3\\lib\\site-packages (from plotly) (1.3.3)\n",
      "Requirement already satisfied: six in c:\\users\\steve\\anaconda3\\lib\\site-packages (from plotly) (1.14.0)\n",
      "Requirement already satisfied: setuptools in c:\\users\\steve\\anaconda3\\lib\\site-packages (from kiwisolver>=1.0.1->matplotlib) (45.1.0.post20200127)\n"
     ]
    }
   ],
   "source": [
    "!pip install matplotlib wordcloud plotly \n",
    "import pandas as pd\n",
    "import numpy as np\n",
    "import plotly.express as px\n",
    "import matplotlib.pyplot as plt\n",
    "\n",
    "from wordcloud import WordCloud\n",
    "\n",
    "df = pd.read_csv(\"2020_opendatascience_poll_data.csv\")"
   ]
  },
  {
   "cell_type": "code",
   "execution_count": 2,
   "metadata": {},
   "outputs": [
    {
     "data": {
      "text/html": [
       "<div>\n",
       "<style scoped>\n",
       "    .dataframe tbody tr th:only-of-type {\n",
       "        vertical-align: middle;\n",
       "    }\n",
       "\n",
       "    .dataframe tbody tr th {\n",
       "        vertical-align: top;\n",
       "    }\n",
       "\n",
       "    .dataframe thead th {\n",
       "        text-align: right;\n",
       "    }\n",
       "</style>\n",
       "<table border=\"1\" class=\"dataframe\">\n",
       "  <thead>\n",
       "    <tr style=\"text-align: right;\">\n",
       "      <th></th>\n",
       "      <th>Timestamp</th>\n",
       "      <th>What is your residence country (where are you from?)</th>\n",
       "      <th>Your timezone (we need that to schedule post timing better)</th>\n",
       "      <th>Education</th>\n",
       "      <th>Work status</th>\n",
       "      <th>Data Science expertise  level</th>\n",
       "      <th>Age</th>\n",
       "      <th>Are you satisfied with channel update frequency?</th>\n",
       "      <th>Are you satisfied with channel's material complexity?</th>\n",
       "      <th>What field are you interested in (multiple choices are possible)</th>\n",
       "      <th>How did you find out about the channel?</th>\n",
       "      <th>How likely are you going to recommend a channel to your friend or colleague?</th>\n",
       "      <th>What’s the main reason for your score? *</th>\n",
       "      <th>If you want to reach for the editors and to write something, please use the field below:</th>\n",
       "    </tr>\n",
       "  </thead>\n",
       "  <tbody>\n",
       "    <tr>\n",
       "      <th>0</th>\n",
       "      <td>2020/01/29 1:30:57 PM GMT+3</td>\n",
       "      <td>Ukraine</td>\n",
       "      <td>GMT+3</td>\n",
       "      <td>Undergrad</td>\n",
       "      <td>Student + part time remote job</td>\n",
       "      <td>Middle</td>\n",
       "      <td>18-24</td>\n",
       "      <td>Yes, it's about perfect</td>\n",
       "      <td>It's all ok</td>\n",
       "      <td>#CV #DL #imageprocessing #videolearning;#RL #D...</td>\n",
       "      <td>Forward from a friend</td>\n",
       "      <td>5</td>\n",
       "      <td>All stuff is absolutely brilliant! Thank you f...</td>\n",
       "      <td>NaN</td>\n",
       "    </tr>\n",
       "    <tr>\n",
       "      <th>1</th>\n",
       "      <td>2020/01/29 1:31:19 PM GMT+3</td>\n",
       "      <td>Russia</td>\n",
       "      <td>GMT+3</td>\n",
       "      <td>Graduate</td>\n",
       "      <td>Employed</td>\n",
       "      <td>Middle</td>\n",
       "      <td>31-42</td>\n",
       "      <td>Nope, less frequent posting will be all right ...</td>\n",
       "      <td>It's all ok</td>\n",
       "      <td>#RL #DL;#NLP #NLU #conversational #dialoguesys...</td>\n",
       "      <td>It's been so long time ago, I can't remember (...</td>\n",
       "      <td>4</td>\n",
       "      <td>it's ok</td>\n",
       "      <td>post some jobs with salary ranges, especially ...</td>\n",
       "    </tr>\n",
       "    <tr>\n",
       "      <th>2</th>\n",
       "      <td>2020/01/29 1:32:48 PM GMT+3</td>\n",
       "      <td>Ukraine</td>\n",
       "      <td>GMT+2</td>\n",
       "      <td>PhD</td>\n",
       "      <td>Unemployed</td>\n",
       "      <td>Novice (Studying courses, active learning)</td>\n",
       "      <td>25-30</td>\n",
       "      <td>Yes, it's about perfect</td>\n",
       "      <td>Need more specific and complicated materials</td>\n",
       "      <td>#WhereToStart #EntryLevel #Novice #MOOC #Learn...</td>\n",
       "      <td>Telegram channel search</td>\n",
       "      <td>3</td>\n",
       "      <td>NaN</td>\n",
       "      <td>NaN</td>\n",
       "    </tr>\n",
       "    <tr>\n",
       "      <th>3</th>\n",
       "      <td>2020/01/29 1:33:27 PM GMT+3</td>\n",
       "      <td>Italy</td>\n",
       "      <td>GMT+1</td>\n",
       "      <td>No degree at all, still learning / self-taught</td>\n",
       "      <td>Student</td>\n",
       "      <td>Novice (Studying courses, active learning)</td>\n",
       "      <td>18-24</td>\n",
       "      <td>Yes, it's about perfect</td>\n",
       "      <td>It's all ok</td>\n",
       "      <td>#CV #DL #imageprocessing #videolearning;#RL #D...</td>\n",
       "      <td>Forward from a friend</td>\n",
       "      <td>5</td>\n",
       "      <td>Mainly due to material shared</td>\n",
       "      <td>NaN</td>\n",
       "    </tr>\n",
       "    <tr>\n",
       "      <th>4</th>\n",
       "      <td>2020/01/29 1:33:49 PM GMT+3</td>\n",
       "      <td>Ukraine</td>\n",
       "      <td>GMT+2</td>\n",
       "      <td>Graduate</td>\n",
       "      <td>Employed</td>\n",
       "      <td>Middle</td>\n",
       "      <td>18-24</td>\n",
       "      <td>Yes, it's about perfect</td>\n",
       "      <td>It's all ok</td>\n",
       "      <td>#RL #DL;#NLP #NLU #conversational #dialoguesys...</td>\n",
       "      <td>It's been so long time ago, I can't remember (...</td>\n",
       "      <td>2</td>\n",
       "      <td>It's not super useful actually. Good enough to...</td>\n",
       "      <td>NaN</td>\n",
       "    </tr>\n",
       "  </tbody>\n",
       "</table>\n",
       "</div>"
      ],
      "text/plain": [
       "                     Timestamp  \\\n",
       "0  2020/01/29 1:30:57 PM GMT+3   \n",
       "1  2020/01/29 1:31:19 PM GMT+3   \n",
       "2  2020/01/29 1:32:48 PM GMT+3   \n",
       "3  2020/01/29 1:33:27 PM GMT+3   \n",
       "4  2020/01/29 1:33:49 PM GMT+3   \n",
       "\n",
       "  What is your residence country (where are you from?)  \\\n",
       "0                                            Ukraine     \n",
       "1                                             Russia     \n",
       "2                                            Ukraine     \n",
       "3                                              Italy     \n",
       "4                                            Ukraine     \n",
       "\n",
       "  Your timezone (we need that to schedule post timing better)  \\\n",
       "0                                              GMT+3            \n",
       "1                                              GMT+3            \n",
       "2                                              GMT+2            \n",
       "3                                              GMT+1            \n",
       "4                                              GMT+2            \n",
       "\n",
       "                                        Education  \\\n",
       "0                                       Undergrad   \n",
       "1                                        Graduate   \n",
       "2                                             PhD   \n",
       "3  No degree at all, still learning / self-taught   \n",
       "4                                        Graduate   \n",
       "\n",
       "                      Work status               Data Science expertise  level  \\\n",
       "0  Student + part time remote job                                      Middle   \n",
       "1                        Employed                                      Middle   \n",
       "2                      Unemployed  Novice (Studying courses, active learning)   \n",
       "3                         Student  Novice (Studying courses, active learning)   \n",
       "4                        Employed                                      Middle   \n",
       "\n",
       "     Age   Are you satisfied with channel update frequency?  \\\n",
       "0  18-24                            Yes, it's about perfect   \n",
       "1  31-42  Nope, less frequent posting will be all right ...   \n",
       "2  25-30                            Yes, it's about perfect   \n",
       "3  18-24                            Yes, it's about perfect   \n",
       "4  18-24                            Yes, it's about perfect   \n",
       "\n",
       "  Are you satisfied with channel's material complexity?  \\\n",
       "0                                        It's all ok      \n",
       "1                                        It's all ok      \n",
       "2       Need more specific and complicated materials      \n",
       "3                                        It's all ok      \n",
       "4                                        It's all ok      \n",
       "\n",
       "  What field are you interested in (multiple choices are possible)  \\\n",
       "0  #CV #DL #imageprocessing #videolearning;#RL #D...                 \n",
       "1  #RL #DL;#NLP #NLU #conversational #dialoguesys...                 \n",
       "2  #WhereToStart #EntryLevel #Novice #MOOC #Learn...                 \n",
       "3  #CV #DL #imageprocessing #videolearning;#RL #D...                 \n",
       "4  #RL #DL;#NLP #NLU #conversational #dialoguesys...                 \n",
       "\n",
       "             How did you find out about the channel?  \\\n",
       "0                              Forward from a friend   \n",
       "1  It's been so long time ago, I can't remember (...   \n",
       "2                            Telegram channel search   \n",
       "3                              Forward from a friend   \n",
       "4  It's been so long time ago, I can't remember (...   \n",
       "\n",
       "   How likely are you going to recommend a channel to your friend or colleague?  \\\n",
       "0                                                  5                              \n",
       "1                                                  4                              \n",
       "2                                                  3                              \n",
       "3                                                  5                              \n",
       "4                                                  2                              \n",
       "\n",
       "            What’s the main reason for your score? *  \\\n",
       "0  All stuff is absolutely brilliant! Thank you f...   \n",
       "1                                            it's ok   \n",
       "2                                                NaN   \n",
       "3                      Mainly due to material shared   \n",
       "4  It's not super useful actually. Good enough to...   \n",
       "\n",
       "  If you want to reach for the editors and to write something, please use the field below:  \n",
       "0                                                NaN                                        \n",
       "1  post some jobs with salary ranges, especially ...                                        \n",
       "2                                                NaN                                        \n",
       "3                                                NaN                                        \n",
       "4                                                NaN                                        "
      ]
     },
     "execution_count": 2,
     "metadata": {},
     "output_type": "execute_result"
    }
   ],
   "source": [
    "df.head()"
   ]
  },
  {
   "cell_type": "code",
   "execution_count": 3,
   "metadata": {},
   "outputs": [
    {
     "data": {
      "text/plain": [
       "Index(['Timestamp', 'What is your residence country (where are you from?)',\n",
       "       'Your timezone (we need that to schedule post timing better)',\n",
       "       'Education', 'Work status', 'Data Science expertise  level', 'Age',\n",
       "       'Are you satisfied with channel update frequency?',\n",
       "       'Are you satisfied with channel's material complexity?',\n",
       "       'What field are you interested in (multiple choices are possible)',\n",
       "       'How did you find out about the channel?',\n",
       "       'How likely are you going to recommend a channel to your friend or colleague?',\n",
       "       'What’s the main reason for your score? *',\n",
       "       'If you want to reach for the editors and to write something, please use the field below:'],\n",
       "      dtype='object')"
      ]
     },
     "execution_count": 3,
     "metadata": {},
     "output_type": "execute_result"
    }
   ],
   "source": [
    "df.columns"
   ]
  },
  {
   "cell_type": "markdown",
   "metadata": {},
   "source": [
    "In order to manipulate the dataset easily we will change names of columns. So we will work with shorter names."
   ]
  },
  {
   "cell_type": "code",
   "execution_count": 4,
   "metadata": {},
   "outputs": [],
   "source": [
    "mapper = {\n",
    "    \"Your timezone (we need that to schedule post timing better)\": \"Timezone\",\n",
    "    \"Work status\": \"Work\",\n",
    "    \"What is your residence country (where are you from?)\": \"Country\",\n",
    "    \"Data Science expertise  level\": \"Experience\",\n",
    "    \"Are you satisfied with channel update frequency?\": \"Sat_update\",\n",
    "    \"Are you satisfied with channel's material complexity?\": \"Sat_material\",\n",
    "    \"What field are you interested in (multiple choices are possible)\": \"Interests\",\n",
    "    \"How did you find out about the channel?\": \"How_found\",\n",
    "    \"How likely are you going to recommend a channel to your friend or colleague?\": \"Recommend\",\n",
    "    \"What’s the main reason for your score? *\": \"Why\",\n",
    "}\n",
    "\n",
    "df = df.rename(columns=mapper)"
   ]
  },
  {
   "cell_type": "code",
   "execution_count": 5,
   "metadata": {},
   "outputs": [
    {
     "name": "stdout",
     "output_type": "stream",
     "text": [
      "<class 'pandas.core.frame.DataFrame'>\n",
      "RangeIndex: 557 entries, 0 to 556\n",
      "Data columns (total 14 columns):\n",
      " #   Column                                                                                    Non-Null Count  Dtype \n",
      "---  ------                                                                                    --------------  ----- \n",
      " 0   Timestamp                                                                                 557 non-null    object\n",
      " 1   Country                                                                                   548 non-null    object\n",
      " 2   Timezone                                                                                  557 non-null    object\n",
      " 3   Education                                                                                 557 non-null    object\n",
      " 4   Work                                                                                      557 non-null    object\n",
      " 5   Experience                                                                                557 non-null    object\n",
      " 6   Age                                                                                       557 non-null    object\n",
      " 7   Sat_update                                                                                557 non-null    object\n",
      " 8   Sat_material                                                                              557 non-null    object\n",
      " 9   Interests                                                                                 557 non-null    object\n",
      " 10  How_found                                                                                 557 non-null    object\n",
      " 11  Recommend                                                                                 557 non-null    int64 \n",
      " 12  Why                                                                                       453 non-null    object\n",
      " 13  If you want to reach for the editors and to write something, please use the field below:  96 non-null     object\n",
      "dtypes: int64(1), object(13)\n",
      "memory usage: 61.0+ KB\n"
     ]
    }
   ],
   "source": [
    "df.info()"
   ]
  },
  {
   "cell_type": "code",
   "execution_count": 6,
   "metadata": {},
   "outputs": [
    {
     "data": {
      "text/plain": [
       "array(['Undergrad', 'Graduate', 'PhD',\n",
       "       'No degree at all, still learning / self-taught',\n",
       "       \"I hold a degree in a field irrelevant to DS but as it comes to DS, I'm all self-taught\",\n",
       "       'Post-Doc'], dtype=object)"
      ]
     },
     "execution_count": 6,
     "metadata": {},
     "output_type": "execute_result"
    }
   ],
   "source": [
    "df.Education.unique()"
   ]
  },
  {
   "cell_type": "markdown",
   "metadata": {},
   "source": [
    "Now we are ready to perform our EDA. Let's go."
   ]
  },
  {
   "cell_type": "markdown",
   "metadata": {},
   "source": [
    "# 01 Countries"
   ]
  },
  {
   "cell_type": "markdown",
   "metadata": {},
   "source": [
    "Let's start to see where the audience come from. We aggregate data using the value_counts() operation provided by pandas.\n",
    "We obtain a DataFrame that will be fed to plotly to create the plot. Plotly works in this way:\n",
    "- Provide the DataFrame\n",
    "- Provide columns of the DataFrame that will be plotted\n",
    "\n",
    "(Actually Plotly can work also with standard arrays, but here we will use always DataFrames)"
   ]
  },
  {
   "cell_type": "code",
   "execution_count": 7,
   "metadata": {},
   "outputs": [
    {
     "name": "stdout",
     "output_type": "stream",
     "text": [
      "         Country\n",
      "Russia       154\n",
      "India        110\n",
      "Ukraine       45\n",
      "Spain         30\n",
      "Italy         29\n",
      "     index  Country\n",
      "0   Russia      154\n",
      "1    India      110\n",
      "2  Ukraine       45\n",
      "3    Spain       30\n",
      "4    Italy       29\n",
      "   Country  Count\n",
      "0   Russia    154\n",
      "1    India    110\n",
      "2  Ukraine     45\n",
      "3    Spain     30\n",
      "4    Italy     29\n"
     ]
    }
   ],
   "source": [
    "countries = df[\"Country\"].value_counts().to_frame()\n",
    "print(countries.head()) #here names of Country are the index of the DataFrame\n",
    "countries = countries.reset_index()\n",
    "print(countries.head()) #here the index became an independent column and a new numeric index is created\n",
    "countries = countries.rename(columns={\"Country\":\"Count\",\"index\":\"Country\"}) #simply rename the column for clarity\n",
    "print(countries.head())"
   ]
  },
  {
   "cell_type": "markdown",
   "metadata": {},
   "source": [
    "Now we are ready to use APIs of plotly to create fantastic plots.\n",
    "Let's start with one of the most common charts, the Pie Chart"
   ]
  },
  {
   "cell_type": "code",
   "execution_count": null,
   "metadata": {
    "scrolled": true
   },
   "outputs": [],
   "source": [
    "fig = px.pie(countries, values='Count', names='Country', title='Countries of the audience')\n",
    "fig.show(\"svg\")"
   ]
  },
  {
   "cell_type": "markdown",
   "metadata": {},
   "source": [
    "It contains all information we were looking for, but there is a problem, isn't it?\n",
    "Due the great fragmentation of countries, It's difficult to see where your country is (in particular if It has few interviewed).\n",
    "Let's try to fix this using another plot, the Bar Plot.\n",
    "\n",
    "Note the 'fig.show(\"svg\")': Plotly by default displays interactive plots. But to correctly display these plots on Github we need to create static plots. If you run this notebook try to remove \"svg\" and see what happen."
   ]
  },
  {
   "cell_type": "code",
   "execution_count": null,
   "metadata": {},
   "outputs": [],
   "source": [
    "countries = countries.sort_values(by=\"Country\", ascending=False) #sort value by country name\n",
    "fig = px.bar(countries, x='Count', y='Country', title='Countries of the audience', \n",
    "             hover_data=['Count'], color='Count', orientation='h')\n",
    "fig.update_layout(\n",
    "    yaxis_tickfont_size=10\n",
    ")\n",
    "fig.show(\"svg\")"
   ]
  },
  {
   "cell_type": "markdown",
   "metadata": {},
   "source": [
    "With this visualization info should be slightly easier to be retrieved. But the plot is very sparse and not very beautiful. We can do better, for example choosing only the K-heighest countries."
   ]
  },
  {
   "cell_type": "code",
   "execution_count": null,
   "metadata": {},
   "outputs": [],
   "source": [
    "K = 18\n",
    "countries_to_plot = countries.sort_values(by=\"Count\", ascending=False)[K::-1] #select K countries with more responses\n",
    "fig = px.bar(countries_to_plot, x='Count', y='Country', title='Countries of the audience', \n",
    "             hover_data=['Count'], color='Count', orientation='h')\n",
    "fig.update_layout(\n",
    "    yaxis_tickfont_size=10\n",
    ")\n",
    "fig.show(\"svg\")"
   ]
  },
  {
   "cell_type": "markdown",
   "metadata": {},
   "source": [
    "# 02 Work status"
   ]
  },
  {
   "cell_type": "markdown",
   "metadata": {},
   "source": [
    "Let's then analyze the people's work status.\n",
    "We process data like we did previously."
   ]
  },
  {
   "cell_type": "code",
   "execution_count": null,
   "metadata": {},
   "outputs": [],
   "source": [
    "works = df[\"Work\"].value_counts().to_frame()\n",
    "print(works.head()) \n",
    "works = works.reset_index()\n",
    "print(works.head()) \n",
    "works = works.rename(columns={\"Work\":\"Count\",\"index\":\"Work\"}) #simply rename the column for clarity\n",
    "print(works.head())"
   ]
  },
  {
   "cell_type": "code",
   "execution_count": null,
   "metadata": {},
   "outputs": [],
   "source": [
    "works = works.sort_values(by=\"Count\", ascending=True)\n",
    "fig = px.bar(works, x='Count', y='Work',  title='Work status of the audience', \n",
    "             hover_data=['Count'], color='Count', orientation='h')\n",
    "fig.update_layout(\n",
    "    yaxis_tickfont_size=10\n",
    ")\n",
    "\n",
    "fig.show(\"svg\")"
   ]
  },
  {
   "cell_type": "markdown",
   "metadata": {},
   "source": [
    "<a name=\"student\"></a>\n",
    "# 03 Countries and Work Status together"
   ]
  },
  {
   "cell_type": "markdown",
   "metadata": {},
   "source": [
    "Now that we have have an idea of where people are from and which is their work status, let's try to combine these 2 information.\n",
    "Our objective is now to represent the relation between each country and the status work of the audience.\n",
    "To accomplish this we will use the [Violin Plot](https://towardsdatascience.com/violin-plots-explained-fb1d115e023d)\n",
    "We will plot only the top 5 countries."
   ]
  },
  {
   "cell_type": "code",
   "execution_count": null,
   "metadata": {},
   "outputs": [],
   "source": [
    "K = 5\n",
    "top_K_countries = countries_to_plot[\"Country\"][-K:]\n",
    "df_top_countries = df.loc[df['Country'].isin(top_K_countries)].copy()"
   ]
  },
  {
   "cell_type": "markdown",
   "metadata": {},
   "source": [
    "Before creating the plot we change the original possible responses into a simplified and shorter version, in order to enable the labels to better fit the plot."
   ]
  },
  {
   "cell_type": "code",
   "execution_count": null,
   "metadata": {},
   "outputs": [],
   "source": [
    "mapper = {\n",
    "    \"Employed remotely\": \"Employed remotely\",\n",
    "    \"Self-employed (freelance)\" : \"Freelencer\",\n",
    "    \"Student + part time job\": \"Worker student\",\n",
    "    \"Self-employed (co-founder / owner)\":\"Self-employed\",\n",
    "    \"Student\": \"Student\",\n",
    "    \"Unemployed\": \"Unemployed\",\n",
    "    \"Employed\": \"Employed\",\n",
    "    \"Student + part time remote job\": \"Remote Worker student\"\n",
    "}\n",
    "df_top_countries[\"Work\"] = df_top_countries[\"Work\"].map(mapper)\n",
    "\n",
    "fig = px.violin(df_top_countries, y=\"Work\", x=\"Country\", title=\"Relationship between country and work status\",\n",
    "          hover_data=df.columns)\n",
    "fig.show(\"svg\")"
   ]
  },
  {
   "cell_type": "markdown",
   "metadata": {},
   "source": [
    "So we can conclude that generally the distribution is quite uniform across different countries, except for India where the number of student is slightly greater then the others top 5 countries."
   ]
  },
  {
   "cell_type": "markdown",
   "metadata": {},
   "source": [
    "<a name=\"age\"></a>\n",
    "# 04 Age"
   ]
  },
  {
   "cell_type": "markdown",
   "metadata": {},
   "source": [
    "We can adopt the Violin Plot also to represent the age distribution of the audience among countries."
   ]
  },
  {
   "cell_type": "code",
   "execution_count": null,
   "metadata": {},
   "outputs": [],
   "source": [
    "df_top_countries_by_age = df_top_countries.sort_values(by=\"Age\", ascending=True)\n",
    "fig = px.violin(df_top_countries_by_age, y=\"Age\", x=\"Country\", title=\"Relationship between countries and age\",\n",
    "                hover_data=df.columns)\n",
    "fig.show(\"svg\")"
   ]
  },
  {
   "cell_type": "markdown",
   "metadata": {},
   "source": [
    "# 05 Is the audience satified about the material and update frequency?"
   ]
  },
  {
   "cell_type": "markdown",
   "metadata": {},
   "source": [
    "One of the main reasons behind the survey is to understand if the audience is satified about the complexity of the material.\n",
    "To better understand if the audience is satisfied we can (again) use a Violin Plot."
   ]
  },
  {
   "cell_type": "code",
   "execution_count": null,
   "metadata": {},
   "outputs": [],
   "source": [
    "mapper = {\n",
    "    \"Need more beginners' stuff\": \"Too complex\",\n",
    "    \"Need more specific and complicated materials\" : \"Too simple\",\n",
    "    \"It's all ok\": \"Perfect\"\n",
    "}\n",
    "\n",
    "df[\"Sat_material\"] = df[\"Sat_material\"].map(mapper)\n",
    "fig = px.violin(df, y=\"Sat_material\", x=\"Work\",hover_data=df.columns,\n",
    "                title='Distribution of satisfaction for material complexity')\n",
    "fig.show(\"svg\")"
   ]
  },
  {
   "cell_type": "markdown",
   "metadata": {},
   "source": [
    "Let's do the same for the update frequency."
   ]
  },
  {
   "cell_type": "code",
   "execution_count": null,
   "metadata": {},
   "outputs": [],
   "source": [
    "mapper = {\n",
    "    \"Nope, need more information\": \"Want more\",\n",
    "    \"Nope, less frequent posting will be all right by me\" : \"Want less\",\n",
    "    \"Yes, it's about perfect\": \"Perfect\"\n",
    "}\n",
    "\n",
    "df[\"Sat_update\"] = df[\"Sat_update\"].map(mapper)\n",
    "fig = px.violin(df, y=\"Sat_update\", x=\"Work\",hover_data=df.columns, \n",
    "                title='Distribution of satisfaction for update frequency')\n",
    "fig.show(\"svg\")"
   ]
  },
  {
   "cell_type": "markdown",
   "metadata": {},
   "source": [
    "In this case the plot is meaningless, thus another perspective is required.\n",
    "Let's try with a Bar Plot."
   ]
  },
  {
   "cell_type": "code",
   "execution_count": null,
   "metadata": {},
   "outputs": [],
   "source": [
    "update_freq = pd.DataFrame(df.groupby(\"Sat_update\").size(), columns=[\"Count\"]).reset_index().sort_values(by=\"Count\")\n",
    "fig = px.bar(update_freq, x='Count', y='Sat_update',  title='Distribution of satisfaction for update frequency', \n",
    "             hover_data=['Count'], color='Count', orientation='h')\n",
    "fig.update_layout(\n",
    "    yaxis_tickfont_size=10\n",
    ")\n",
    "fig.show(\"svg\")"
   ]
  },
  {
   "cell_type": "markdown",
   "metadata": {},
   "source": [
    "# 06 Interests"
   ]
  },
  {
   "cell_type": "markdown",
   "metadata": {},
   "source": [
    "Given the people interests, create a WordCloud to see trends of topics"
   ]
  },
  {
   "cell_type": "code",
   "execution_count": null,
   "metadata": {},
   "outputs": [],
   "source": [
    "def display_wordcloud_image(text:str):\n",
    "    \"\"\"Function for displaying wordcloud of the provided text.\"\"\"\n",
    "    plt.figure(figsize = (12, 8))\n",
    "    wordcloud = WordCloud(max_font_size=None, background_color='white', collocations=True,\n",
    "                          width=1200, height=1000).generate(text)\n",
    "    plt.imshow(wordcloud)\n",
    "    plt.axis(\"off\")\n",
    "    plt.show()"
   ]
  },
  {
   "cell_type": "code",
   "execution_count": null,
   "metadata": {},
   "outputs": [],
   "source": [
    "text = ' '.join(df['Interests'].values)\n",
    "display_wordcloud_image(text)"
   ]
  },
  {
   "cell_type": "markdown",
   "metadata": {},
   "source": [
    "We could also see if particular trends occures in different countries. We could use a WordCloud for each countries or we could simply select the top-3 topics for some countries. Let's try with the hardest way,the latter one."
   ]
  },
  {
   "cell_type": "markdown",
   "metadata": {},
   "source": [
    "First let's select a subset of countries to plot like we did before. We'll keep the top-4 countries."
   ]
  },
  {
   "cell_type": "code",
   "execution_count": null,
   "metadata": {},
   "outputs": [],
   "source": [
    "K = 4\n",
    "top_K_countries = countries_to_plot[\"Country\"][-K:]\n",
    "df_top_countries = df.loc[df['Country'].isin(top_K_countries)].copy()"
   ]
  },
  {
   "cell_type": "markdown",
   "metadata": {},
   "source": [
    "In order to organize the plot into 4 different subplots (one for each country) we need to use graph_objects and make_subplots.\n",
    "After importing necessary packages we create a grouby object. It cointains all rows of the dataframe but divided into groups. Each group contains the name (that is the value we are grouping by, in out case Country) and as many rows as submissions for that country."
   ]
  },
  {
   "cell_type": "code",
   "execution_count": null,
   "metadata": {},
   "outputs": [],
   "source": [
    "from collections import Counter\n",
    "import plotly.graph_objects as go\n",
    "from plotly.subplots import make_subplots\n",
    "\n",
    "g = df_top_countries.groupby(\"Country\")"
   ]
  },
  {
   "cell_type": "markdown",
   "metadata": {},
   "source": [
    "We then extract names of countries as they appear in the group (thus we can't simply do df_top_countries.unique() because It would returns the same names but with a possibly different order).\n",
    "These names are used as title for each subplot in order to associate the Pie chart with the country It represents."
   ]
  },
  {
   "cell_type": "code",
   "execution_count": null,
   "metadata": {},
   "outputs": [],
   "source": [
    "titles = tuple(i for i in g.apply(lambda x: x.name ))\n",
    "\n",
    "specs = [[{'type':'domain'}, {'type':'domain'}], [{'type':'domain'}, {'type':'domain'}]]\n",
    "fig = make_subplots(rows=2, cols=2, specs=specs, subplot_titles=titles) #we create a grid of 2x2. Each cell will contain a plot"
   ]
  },
  {
   "cell_type": "markdown",
   "metadata": {},
   "source": [
    "Then we iterate over all groups and we add one Pie chart at the time"
   ]
  },
  {
   "cell_type": "code",
   "execution_count": null,
   "metadata": {},
   "outputs": [],
   "source": [
    "r , c = 1 , 1 #stands for row and column\n",
    "for index,sample in g: #iterate over groups \n",
    "    counter = Counter() #counts occurences of words over all countries\n",
    "    \n",
    "    for index2,row in sample.iterrows(): #iterate over rows of the current country\n",
    "        tmp = Counter(row[\"Interests\"].split()) #here we count occurences of words for this single row\n",
    "        counter = counter + tmp #sums single countings together\n",
    "        \n",
    "    most_common = counter.most_common(3) #will looks like: [('#WhereToStart', 81), ('#EntryLevel', 81), ('#Novice', 81)]\n",
    "    \n",
    "    labels = [e[0] for e in most_common] #extract the first element, the label\n",
    "    values = [e[1] for e in most_common] #extract the second element, the value\n",
    "    \n",
    "    fig.add_trace(go.Pie(labels=labels, values=values),r,c) #Define pie chart subplot\n",
    "    c = c + 1 #to place correcly each subplot into the 2x2 grid\n",
    "    if c % 3 == 0:\n",
    "        r = r + 1\n",
    "        c = 1\n",
    "    \n",
    "# Tune layout\n",
    "fig.update(layout_title_text='Distribution of top 3 topics in the 4 top countries',\n",
    "           layout_showlegend=True)\n",
    "fig = go.Figure(fig)\n",
    "fig.show(\"svg\")"
   ]
  },
  {
   "cell_type": "markdown",
   "metadata": {},
   "source": [
    "From this plot we can see that DeepLearning and image processing are very popular across countries, while in India people demand for beginners stuff.\n",
    "This can be derived by the fact that, as we saw in **03** and **04** India has the highest percentage of student and people ranging from 18 to 24 years old."
   ]
  },
  {
   "cell_type": "code",
   "execution_count": null,
   "metadata": {},
   "outputs": [],
   "source": []
  }
 ],
 "metadata": {
  "kernelspec": {
   "display_name": "Python 3",
   "language": "python",
   "name": "python3"
  },
  "language_info": {
   "codemirror_mode": {
    "name": "ipython",
    "version": 3
   },
   "file_extension": ".py",
   "mimetype": "text/x-python",
   "name": "python",
   "nbconvert_exporter": "python",
   "pygments_lexer": "ipython3",
   "version": "3.7.6"
  }
 },
 "nbformat": 4,
 "nbformat_minor": 4
}
